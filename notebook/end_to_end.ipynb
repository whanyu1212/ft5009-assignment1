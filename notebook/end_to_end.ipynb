{
 "cells": [
  {
   "cell_type": "code",
   "execution_count": 1,
   "id": "7f055217",
   "metadata": {},
   "outputs": [],
   "source": [
    "import sys\n",
    "import os\n",
    "\n",
    "# Adding the root folder to sys path\n",
    "project_root = os.path.abspath(os.path.join(os.getcwd(), '..'))\n",
    "if project_root not in sys.path:\n",
    "    sys.path.insert(0, project_root)"
   ]
  },
  {
   "cell_type": "code",
   "execution_count": 2,
   "id": "f72168a8",
   "metadata": {},
   "outputs": [],
   "source": [
    "import json\n",
    "import pandas as pd\n",
    "from rich.panel import Panel\n",
    "from rich.console import Console\n",
    "from src.data_loaders.yf_loader import YFinanceLoader\n",
    "from src.analysis.benfords_law import BenfordsLawAnalyzer\n",
    "from src.data_loaders.wiki_sp500_scraper import ScraperFactory, ScraperType"
   ]
  },
  {
   "cell_type": "code",
   "execution_count": 9,
   "id": "621469a5",
   "metadata": {},
   "outputs": [],
   "source": [
    "console = Console()\n",
    "\n",
    "yf_loader = YFinanceLoader()\n",
    "bf_analyzer = BenfordsLawAnalyzer()\n",
    "llm_scraper = ScraperFactory.get_scraper(ScraperType.LLM)\n",
    "pandas_scraper = ScraperFactory.get_scraper(ScraperType.PANDAS)"
   ]
  },
  {
   "cell_type": "code",
   "execution_count": 4,
   "id": "b029390c",
   "metadata": {},
   "outputs": [
    {
     "name": "stdout",
     "output_type": "stream",
     "text": [
      "llm_scraper.scraper_name: LLMTableScraper\n",
      "pandas_scraper.scraper_name: PandasTableScraper\n"
     ]
    }
   ],
   "source": [
    "print(f\"llm_scraper.scraper_name: {llm_scraper.scraper_name}\")\n",
    "print(f\"pandas_scraper.scraper_name: {pandas_scraper.scraper_name}\")"
   ]
  },
  {
   "cell_type": "code",
   "execution_count": 5,
   "id": "96bb2e03",
   "metadata": {},
   "outputs": [],
   "source": [
    "url = \"https://en.wikipedia.org/wiki/List_of_S%26P_500_companies\""
   ]
  },
  {
   "cell_type": "code",
   "execution_count": null,
   "id": "6b446faa",
   "metadata": {},
   "outputs": [],
   "source": [
    "# ! Beware of rate limits of firecrawl\n",
    "\n",
    "# We will skip this cell since we already know that pandas is more performant in scraping the table on the wiki page\n",
    "\n",
    "# scraped_df_llm = llm_scraper.scrape_table(url)\n",
    "\n",
    "# You can run the following for comparison if needed\n",
    "\n",
    "# if not scraped_df_llm.equals(scraped_df_pandas):\n",
    "#     differences = scraped_df_llm.compare(scraped_df_pandas)\n",
    "#     print(\"Differences:\")\n",
    "#     print(differences) "
   ]
  },
  {
   "cell_type": "code",
   "execution_count": 6,
   "id": "dbc150b8",
   "metadata": {},
   "outputs": [
    {
     "name": "stderr",
     "output_type": "stream",
     "text": [
      "\u001b[32m2025-08-30 15:52:44.699\u001b[0m | \u001b[1mINFO    \u001b[0m | \u001b[36msrc.data_loaders.wiki_sp500_scraper\u001b[0m:\u001b[36m_validate_and_clean_df\u001b[0m:\u001b[36m53\u001b[0m - \u001b[1mSuccessfully validated DataFrame with 503 rows against SP500ConstituentSchema\u001b[0m\n"
     ]
    },
    {
     "data": {
      "text/html": [
       "<div>\n",
       "<style scoped>\n",
       "    .dataframe tbody tr th:only-of-type {\n",
       "        vertical-align: middle;\n",
       "    }\n",
       "\n",
       "    .dataframe tbody tr th {\n",
       "        vertical-align: top;\n",
       "    }\n",
       "\n",
       "    .dataframe thead th {\n",
       "        text-align: right;\n",
       "    }\n",
       "</style>\n",
       "<table border=\"1\" class=\"dataframe\">\n",
       "  <thead>\n",
       "    <tr style=\"text-align: right;\">\n",
       "      <th></th>\n",
       "      <th>Symbol</th>\n",
       "      <th>Security</th>\n",
       "      <th>GICS Sector</th>\n",
       "      <th>GICS Sub-Industry</th>\n",
       "      <th>Headquarters Location</th>\n",
       "      <th>Date added</th>\n",
       "      <th>CIK</th>\n",
       "      <th>Founded</th>\n",
       "    </tr>\n",
       "  </thead>\n",
       "  <tbody>\n",
       "    <tr>\n",
       "      <th>0</th>\n",
       "      <td>MMM</td>\n",
       "      <td>3M</td>\n",
       "      <td>Industrials</td>\n",
       "      <td>Industrial Conglomerates</td>\n",
       "      <td>Saint Paul, Minnesota</td>\n",
       "      <td>1957-03-04</td>\n",
       "      <td>66740</td>\n",
       "      <td>1902</td>\n",
       "    </tr>\n",
       "    <tr>\n",
       "      <th>1</th>\n",
       "      <td>AOS</td>\n",
       "      <td>A. O. Smith</td>\n",
       "      <td>Industrials</td>\n",
       "      <td>Building Products</td>\n",
       "      <td>Milwaukee, Wisconsin</td>\n",
       "      <td>2017-07-26</td>\n",
       "      <td>91142</td>\n",
       "      <td>1916</td>\n",
       "    </tr>\n",
       "    <tr>\n",
       "      <th>2</th>\n",
       "      <td>ABT</td>\n",
       "      <td>Abbott Laboratories</td>\n",
       "      <td>Health Care</td>\n",
       "      <td>Health Care Equipment</td>\n",
       "      <td>North Chicago, Illinois</td>\n",
       "      <td>1957-03-04</td>\n",
       "      <td>1800</td>\n",
       "      <td>1888</td>\n",
       "    </tr>\n",
       "    <tr>\n",
       "      <th>3</th>\n",
       "      <td>ABBV</td>\n",
       "      <td>AbbVie</td>\n",
       "      <td>Health Care</td>\n",
       "      <td>Biotechnology</td>\n",
       "      <td>North Chicago, Illinois</td>\n",
       "      <td>2012-12-31</td>\n",
       "      <td>1551152</td>\n",
       "      <td>2013 (1888)</td>\n",
       "    </tr>\n",
       "    <tr>\n",
       "      <th>4</th>\n",
       "      <td>ACN</td>\n",
       "      <td>Accenture</td>\n",
       "      <td>Information Technology</td>\n",
       "      <td>IT Consulting &amp; Other Services</td>\n",
       "      <td>Dublin, Ireland</td>\n",
       "      <td>2011-07-06</td>\n",
       "      <td>1467373</td>\n",
       "      <td>1989</td>\n",
       "    </tr>\n",
       "  </tbody>\n",
       "</table>\n",
       "</div>"
      ],
      "text/plain": [
       "  Symbol             Security             GICS Sector  \\\n",
       "0    MMM                   3M             Industrials   \n",
       "1    AOS          A. O. Smith             Industrials   \n",
       "2    ABT  Abbott Laboratories             Health Care   \n",
       "3   ABBV               AbbVie             Health Care   \n",
       "4    ACN            Accenture  Information Technology   \n",
       "\n",
       "                GICS Sub-Industry    Headquarters Location  Date added  \\\n",
       "0        Industrial Conglomerates    Saint Paul, Minnesota  1957-03-04   \n",
       "1               Building Products     Milwaukee, Wisconsin  2017-07-26   \n",
       "2           Health Care Equipment  North Chicago, Illinois  1957-03-04   \n",
       "3                   Biotechnology  North Chicago, Illinois  2012-12-31   \n",
       "4  IT Consulting & Other Services          Dublin, Ireland  2011-07-06   \n",
       "\n",
       "       CIK      Founded  \n",
       "0    66740         1902  \n",
       "1    91142         1916  \n",
       "2     1800         1888  \n",
       "3  1551152  2013 (1888)  \n",
       "4  1467373         1989  "
      ]
     },
     "execution_count": 6,
     "metadata": {},
     "output_type": "execute_result"
    }
   ],
   "source": [
    "scraped_df_pandas = pandas_scraper.scrape_table(url, table_index=0)\n",
    "\n",
    "# * made updates to the read_html input args to prevent FutureWarning\n",
    "# * added schema validation to be a private method that get executed after the table is fetched\n",
    "\n",
    "scraped_df_pandas.head()"
   ]
  },
  {
   "cell_type": "code",
   "execution_count": 7,
   "id": "3060a1dc",
   "metadata": {},
   "outputs": [
    {
     "name": "stderr",
     "output_type": "stream",
     "text": [
      "\u001b[32m2025-08-30 15:53:35.760\u001b[0m | \u001b[1mINFO    \u001b[0m | \u001b[36msrc.data_loaders.yf_loader\u001b[0m:\u001b[36mget_market_cap\u001b[0m:\u001b[36m173\u001b[0m - \u001b[1mMarket cap data validation successful.\u001b[0m\n",
      "\u001b[32m2025-08-30 15:54:53.668\u001b[0m | \u001b[1mINFO    \u001b[0m | \u001b[36msrc.data_loaders.yf_loader\u001b[0m:\u001b[36mget_market_cap\u001b[0m:\u001b[36m173\u001b[0m - \u001b[1mMarket cap data validation successful.\u001b[0m\n"
     ]
    }
   ],
   "source": [
    "tickers = scraped_df_pandas[\"Symbol\"].tolist()\n",
    "\n",
    "# * not super performant to loop through tickers for stock info dict as we are making a lot of api calls\n",
    "\n",
    "# * added automatic schema validation using pandera once the market cap data is retrieved\n",
    "df = yf_loader.get_market_cap(tickers, prefer_calc=False)\n",
    "\n",
    "# * Its almost 3 times slower because we have to get latest closing price * outstandingShares in the stock info to get the latest market cap\n",
    "df_manual = yf_loader.get_market_cap(tickers, prefer_calc=True)"
   ]
  },
  {
   "cell_type": "code",
   "execution_count": 8,
   "id": "cc254353",
   "metadata": {},
   "outputs": [
    {
     "data": {
      "text/html": [
       "<div>\n",
       "<style scoped>\n",
       "    .dataframe tbody tr th:only-of-type {\n",
       "        vertical-align: middle;\n",
       "    }\n",
       "\n",
       "    .dataframe tbody tr th {\n",
       "        vertical-align: top;\n",
       "    }\n",
       "\n",
       "    .dataframe thead th {\n",
       "        text-align: right;\n",
       "    }\n",
       "</style>\n",
       "<table border=\"1\" class=\"dataframe\">\n",
       "  <thead>\n",
       "    <tr style=\"text-align: right;\">\n",
       "      <th></th>\n",
       "      <th>symbol</th>\n",
       "      <th>marketCap</th>\n",
       "      <th>symbol</th>\n",
       "      <th>marketCap</th>\n",
       "    </tr>\n",
       "  </thead>\n",
       "  <tbody>\n",
       "    <tr>\n",
       "      <th>0</th>\n",
       "      <td>MMM</td>\n",
       "      <td>8.283995e+10</td>\n",
       "      <td>MMM</td>\n",
       "      <td>8.285060e+10</td>\n",
       "    </tr>\n",
       "    <tr>\n",
       "      <th>1</th>\n",
       "      <td>AOS</td>\n",
       "      <td>1.003606e+10</td>\n",
       "      <td>AOS</td>\n",
       "      <td>8.145596e+09</td>\n",
       "    </tr>\n",
       "    <tr>\n",
       "      <th>2</th>\n",
       "      <td>ABT</td>\n",
       "      <td>2.308894e+11</td>\n",
       "      <td>ABT</td>\n",
       "      <td>2.309416e+11</td>\n",
       "    </tr>\n",
       "    <tr>\n",
       "      <th>3</th>\n",
       "      <td>ABBV</td>\n",
       "      <td>3.716842e+11</td>\n",
       "      <td>ABBV</td>\n",
       "      <td>3.719139e+11</td>\n",
       "    </tr>\n",
       "    <tr>\n",
       "      <th>4</th>\n",
       "      <td>ACN</td>\n",
       "      <td>1.619231e+11</td>\n",
       "      <td>ACN</td>\n",
       "      <td>1.620228e+11</td>\n",
       "    </tr>\n",
       "    <tr>\n",
       "      <th>...</th>\n",
       "      <td>...</td>\n",
       "      <td>...</td>\n",
       "      <td>...</td>\n",
       "      <td>...</td>\n",
       "    </tr>\n",
       "    <tr>\n",
       "      <th>498</th>\n",
       "      <td>XYL</td>\n",
       "      <td>3.445712e+10</td>\n",
       "      <td>XYL</td>\n",
       "      <td>3.445225e+10</td>\n",
       "    </tr>\n",
       "    <tr>\n",
       "      <th>499</th>\n",
       "      <td>YUM</td>\n",
       "      <td>4.078947e+10</td>\n",
       "      <td>YUM</td>\n",
       "      <td>4.073396e+10</td>\n",
       "    </tr>\n",
       "    <tr>\n",
       "      <th>500</th>\n",
       "      <td>ZBRA</td>\n",
       "      <td>1.612250e+10</td>\n",
       "      <td>ZBRA</td>\n",
       "      <td>1.612047e+10</td>\n",
       "    </tr>\n",
       "    <tr>\n",
       "      <th>501</th>\n",
       "      <td>ZBH</td>\n",
       "      <td>2.101799e+10</td>\n",
       "      <td>ZBH</td>\n",
       "      <td>2.102393e+10</td>\n",
       "    </tr>\n",
       "    <tr>\n",
       "      <th>502</th>\n",
       "      <td>ZTS</td>\n",
       "      <td>6.931382e+10</td>\n",
       "      <td>ZTS</td>\n",
       "      <td>6.931826e+10</td>\n",
       "    </tr>\n",
       "  </tbody>\n",
       "</table>\n",
       "<p>501 rows × 4 columns</p>\n",
       "</div>"
      ],
      "text/plain": [
       "    symbol     marketCap symbol     marketCap\n",
       "0      MMM  8.283995e+10    MMM  8.285060e+10\n",
       "1      AOS  1.003606e+10    AOS  8.145596e+09\n",
       "2      ABT  2.308894e+11    ABT  2.309416e+11\n",
       "3     ABBV  3.716842e+11   ABBV  3.719139e+11\n",
       "4      ACN  1.619231e+11    ACN  1.620228e+11\n",
       "..     ...           ...    ...           ...\n",
       "498    XYL  3.445712e+10    XYL  3.445225e+10\n",
       "499    YUM  4.078947e+10    YUM  4.073396e+10\n",
       "500   ZBRA  1.612250e+10   ZBRA  1.612047e+10\n",
       "501    ZBH  2.101799e+10    ZBH  2.102393e+10\n",
       "502    ZTS  6.931382e+10    ZTS  6.931826e+10\n",
       "\n",
       "[501 rows x 4 columns]"
      ]
     },
     "execution_count": 8,
     "metadata": {},
     "output_type": "execute_result"
    }
   ],
   "source": [
    "# The market cap dataframes will be slightly misaligned due to differences in the calculation methods/data ingestion frequency\n",
    "pd.concat([df, df_manual], axis=1)"
   ]
  },
  {
   "cell_type": "code",
   "execution_count": 15,
   "id": "87d3e208",
   "metadata": {},
   "outputs": [
    {
     "name": "stderr",
     "output_type": "stream",
     "text": [
      "\u001b[32m2025-08-30 15:57:27.996\u001b[0m | \u001b[1mINFO    \u001b[0m | \u001b[36msrc.analysis.benfords_law\u001b[0m:\u001b[36m_extract_first_digits\u001b[0m:\u001b[36m92\u001b[0m - \u001b[1mExtracted 501 valid first digits from 501 total values\u001b[0m\n"
     ]
    },
    {
     "data": {
      "text/html": [
       "<pre style=\"white-space:pre;overflow-x:auto;line-height:normal;font-family:Menlo,'DejaVu Sans Mono',consolas,'Courier New',monospace\"><span style=\"font-weight: bold\">{</span>\n",
       "    <span style=\"color: #008000; text-decoration-color: #008000\">'field_name'</span>: <span style=\"color: #008000; text-decoration-color: #008000\">'marketCap'</span>,\n",
       "    <span style=\"color: #008000; text-decoration-color: #008000\">'total_values'</span>: <span style=\"color: #008080; text-decoration-color: #008080; font-weight: bold\">501</span>,\n",
       "    <span style=\"color: #008000; text-decoration-color: #008000\">'valid_values'</span>: <span style=\"color: #008080; text-decoration-color: #008080; font-weight: bold\">501</span>,\n",
       "    <span style=\"color: #008000; text-decoration-color: #008000\">'theoretical_distribution'</span>: <span style=\"font-weight: bold\">{</span>\n",
       "        <span style=\"color: #008080; text-decoration-color: #008080; font-weight: bold\">1</span>: <span style=\"color: #800080; text-decoration-color: #800080; font-weight: bold\">np.float64</span><span style=\"font-weight: bold\">(</span><span style=\"color: #008080; text-decoration-color: #008080; font-weight: bold\">0.3010299956639812</span><span style=\"font-weight: bold\">)</span>,\n",
       "        <span style=\"color: #008080; text-decoration-color: #008080; font-weight: bold\">2</span>: <span style=\"color: #800080; text-decoration-color: #800080; font-weight: bold\">np.float64</span><span style=\"font-weight: bold\">(</span><span style=\"color: #008080; text-decoration-color: #008080; font-weight: bold\">0.17609125905568124</span><span style=\"font-weight: bold\">)</span>,\n",
       "        <span style=\"color: #008080; text-decoration-color: #008080; font-weight: bold\">3</span>: <span style=\"color: #800080; text-decoration-color: #800080; font-weight: bold\">np.float64</span><span style=\"font-weight: bold\">(</span><span style=\"color: #008080; text-decoration-color: #008080; font-weight: bold\">0.12493873660829993</span><span style=\"font-weight: bold\">)</span>,\n",
       "        <span style=\"color: #008080; text-decoration-color: #008080; font-weight: bold\">4</span>: <span style=\"color: #800080; text-decoration-color: #800080; font-weight: bold\">np.float64</span><span style=\"font-weight: bold\">(</span><span style=\"color: #008080; text-decoration-color: #008080; font-weight: bold\">0.09691001300805642</span><span style=\"font-weight: bold\">)</span>,\n",
       "        <span style=\"color: #008080; text-decoration-color: #008080; font-weight: bold\">5</span>: <span style=\"color: #800080; text-decoration-color: #800080; font-weight: bold\">np.float64</span><span style=\"font-weight: bold\">(</span><span style=\"color: #008080; text-decoration-color: #008080; font-weight: bold\">0.07918124604762482</span><span style=\"font-weight: bold\">)</span>,\n",
       "        <span style=\"color: #008080; text-decoration-color: #008080; font-weight: bold\">6</span>: <span style=\"color: #800080; text-decoration-color: #800080; font-weight: bold\">np.float64</span><span style=\"font-weight: bold\">(</span><span style=\"color: #008080; text-decoration-color: #008080; font-weight: bold\">0.06694678963061322</span><span style=\"font-weight: bold\">)</span>,\n",
       "        <span style=\"color: #008080; text-decoration-color: #008080; font-weight: bold\">7</span>: <span style=\"color: #800080; text-decoration-color: #800080; font-weight: bold\">np.float64</span><span style=\"font-weight: bold\">(</span><span style=\"color: #008080; text-decoration-color: #008080; font-weight: bold\">0.05799194697768673</span><span style=\"font-weight: bold\">)</span>,\n",
       "        <span style=\"color: #008080; text-decoration-color: #008080; font-weight: bold\">8</span>: <span style=\"color: #800080; text-decoration-color: #800080; font-weight: bold\">np.float64</span><span style=\"font-weight: bold\">(</span><span style=\"color: #008080; text-decoration-color: #008080; font-weight: bold\">0.05115252244738129</span><span style=\"font-weight: bold\">)</span>,\n",
       "        <span style=\"color: #008080; text-decoration-color: #008080; font-weight: bold\">9</span>: <span style=\"color: #800080; text-decoration-color: #800080; font-weight: bold\">np.float64</span><span style=\"font-weight: bold\">(</span><span style=\"color: #008080; text-decoration-color: #008080; font-weight: bold\">0.04575749056067514</span><span style=\"font-weight: bold\">)</span>\n",
       "    <span style=\"font-weight: bold\">}</span>,\n",
       "    <span style=\"color: #008000; text-decoration-color: #008000\">'observed_distribution'</span>: <span style=\"font-weight: bold\">{</span>\n",
       "        <span style=\"color: #008080; text-decoration-color: #008080; font-weight: bold\">1</span>: <span style=\"color: #008080; text-decoration-color: #008080; font-weight: bold\">0.3253493013972056</span>,\n",
       "        <span style=\"color: #008080; text-decoration-color: #008080; font-weight: bold\">2</span>: <span style=\"color: #008080; text-decoration-color: #008080; font-weight: bold\">0.20958083832335328</span>,\n",
       "        <span style=\"color: #008080; text-decoration-color: #008080; font-weight: bold\">3</span>: <span style=\"color: #008080; text-decoration-color: #008080; font-weight: bold\">0.12574850299401197</span>,\n",
       "        <span style=\"color: #008080; text-decoration-color: #008080; font-weight: bold\">4</span>: <span style=\"color: #008080; text-decoration-color: #008080; font-weight: bold\">0.07784431137724551</span>,\n",
       "        <span style=\"color: #008080; text-decoration-color: #008080; font-weight: bold\">5</span>: <span style=\"color: #008080; text-decoration-color: #008080; font-weight: bold\">0.0658682634730539</span>,\n",
       "        <span style=\"color: #008080; text-decoration-color: #008080; font-weight: bold\">6</span>: <span style=\"color: #008080; text-decoration-color: #008080; font-weight: bold\">0.05588822355289421</span>,\n",
       "        <span style=\"color: #008080; text-decoration-color: #008080; font-weight: bold\">7</span>: <span style=\"color: #008080; text-decoration-color: #008080; font-weight: bold\">0.04590818363273453</span>,\n",
       "        <span style=\"color: #008080; text-decoration-color: #008080; font-weight: bold\">8</span>: <span style=\"color: #008080; text-decoration-color: #008080; font-weight: bold\">0.03992015968063872</span>,\n",
       "        <span style=\"color: #008080; text-decoration-color: #008080; font-weight: bold\">9</span>: <span style=\"color: #008080; text-decoration-color: #008080; font-weight: bold\">0.05389221556886228</span>\n",
       "    <span style=\"font-weight: bold\">}</span>,\n",
       "    <span style=\"color: #008000; text-decoration-color: #008000\">'chi_square_test'</span>: <span style=\"font-weight: bold\">{</span>\n",
       "        <span style=\"color: #008000; text-decoration-color: #008000\">'statistic'</span>: <span style=\"color: #800080; text-decoration-color: #800080; font-weight: bold\">np.float64</span><span style=\"font-weight: bold\">(</span><span style=\"color: #008080; text-decoration-color: #008080; font-weight: bold\">11.315380985821792</span><span style=\"font-weight: bold\">)</span>,\n",
       "        <span style=\"color: #008000; text-decoration-color: #008000\">'p_value'</span>: <span style=\"color: #800080; text-decoration-color: #800080; font-weight: bold\">np.float64</span><span style=\"font-weight: bold\">(</span><span style=\"color: #008080; text-decoration-color: #008080; font-weight: bold\">0.18446154098614584</span><span style=\"font-weight: bold\">)</span>,\n",
       "        <span style=\"color: #008000; text-decoration-color: #008000\">'degrees_of_freedom'</span>: <span style=\"color: #008080; text-decoration-color: #008080; font-weight: bold\">8</span>,\n",
       "        <span style=\"color: #008000; text-decoration-color: #008000\">'significant'</span>: np.False_,\n",
       "        <span style=\"color: #008000; text-decoration-color: #008000\">'interpretation'</span>: <span style=\"color: #008000; text-decoration-color: #008000\">\"Not significantly different from Benford's Law (p &gt;= 0.05)\"</span>\n",
       "    <span style=\"font-weight: bold\">}</span>,\n",
       "    <span style=\"color: #008000; text-decoration-color: #008000\">'ks_test'</span>: <span style=\"font-weight: bold\">{</span>\n",
       "        <span style=\"color: #008000; text-decoration-color: #008000\">'statistic'</span>: <span style=\"color: #800080; text-decoration-color: #800080; font-weight: bold\">np.float64</span><span style=\"font-weight: bold\">(</span><span style=\"color: #008080; text-decoration-color: #008080; font-weight: bold\">0.05861865138660838</span><span style=\"font-weight: bold\">)</span>,\n",
       "        <span style=\"color: #008000; text-decoration-color: #008000\">'critical_value'</span>: <span style=\"color: #800080; text-decoration-color: #800080; font-weight: bold\">np.float64</span><span style=\"font-weight: bold\">(</span><span style=\"color: #008080; text-decoration-color: #008080; font-weight: bold\">0.06076031901879276</span><span style=\"font-weight: bold\">)</span>,\n",
       "        <span style=\"color: #008000; text-decoration-color: #008000\">'confidence_level'</span>: <span style=\"color: #008080; text-decoration-color: #008080; font-weight: bold\">0.95</span>,\n",
       "        <span style=\"color: #008000; text-decoration-color: #008000\">'significant'</span>: np.False_,\n",
       "        <span style=\"color: #008000; text-decoration-color: #008000\">'interpretation'</span>: <span style=\"color: #008000; text-decoration-color: #008000\">\"Not significantly different from Benford's Law at 95% confidence\"</span>\n",
       "    <span style=\"font-weight: bold\">}</span>,\n",
       "    <span style=\"color: #008000; text-decoration-color: #008000\">'mean_absolute_deviation'</span>: <span style=\"font-weight: bold\">{</span>\n",
       "        <span style=\"color: #008000; text-decoration-color: #008000\">'mad'</span>: <span style=\"color: #800080; text-decoration-color: #800080; font-weight: bold\">np.float64</span><span style=\"font-weight: bold\">(</span><span style=\"color: #008080; text-decoration-color: #008080; font-weight: bold\">0.014834083643287912</span><span style=\"font-weight: bold\">)</span>,\n",
       "        <span style=\"color: #008000; text-decoration-color: #008000\">'conformity_level'</span>: <span style=\"color: #008000; text-decoration-color: #008000\">\"Marginal Dispersion: Suggests some deviation from Benford's Law, which may be </span>\n",
       "<span style=\"color: #008000; text-decoration-color: #008000\">acceptable.\"</span>,\n",
       "        <span style=\"color: #008000; text-decoration-color: #008000\">'interpretation'</span>: <span style=\"color: #008000; text-decoration-color: #008000\">\"MAD = 0.014834 indicates marginal dispersion: suggests some deviation from benford's </span>\n",
       "<span style=\"color: #008000; text-decoration-color: #008000\">law, which may be acceptable.\"</span>\n",
       "    <span style=\"font-weight: bold\">}</span>,\n",
       "    <span style=\"color: #008000; text-decoration-color: #008000\">'summary'</span>: <span style=\"color: #008000; text-decoration-color: #008000\">\"The data likely follows Benford's Law. Marginal Dispersion: Suggests some deviation from Benford's </span>\n",
       "<span style=\"color: #008000; text-decoration-color: #008000\">Law, which may be acceptable. detected.\"</span>\n",
       "<span style=\"font-weight: bold\">}</span>\n",
       "</pre>\n"
      ],
      "text/plain": [
       "\u001b[1m{\u001b[0m\n",
       "    \u001b[32m'field_name'\u001b[0m: \u001b[32m'marketCap'\u001b[0m,\n",
       "    \u001b[32m'total_values'\u001b[0m: \u001b[1;36m501\u001b[0m,\n",
       "    \u001b[32m'valid_values'\u001b[0m: \u001b[1;36m501\u001b[0m,\n",
       "    \u001b[32m'theoretical_distribution'\u001b[0m: \u001b[1m{\u001b[0m\n",
       "        \u001b[1;36m1\u001b[0m: \u001b[1;35mnp.float64\u001b[0m\u001b[1m(\u001b[0m\u001b[1;36m0.3010299956639812\u001b[0m\u001b[1m)\u001b[0m,\n",
       "        \u001b[1;36m2\u001b[0m: \u001b[1;35mnp.float64\u001b[0m\u001b[1m(\u001b[0m\u001b[1;36m0.17609125905568124\u001b[0m\u001b[1m)\u001b[0m,\n",
       "        \u001b[1;36m3\u001b[0m: \u001b[1;35mnp.float64\u001b[0m\u001b[1m(\u001b[0m\u001b[1;36m0.12493873660829993\u001b[0m\u001b[1m)\u001b[0m,\n",
       "        \u001b[1;36m4\u001b[0m: \u001b[1;35mnp.float64\u001b[0m\u001b[1m(\u001b[0m\u001b[1;36m0.09691001300805642\u001b[0m\u001b[1m)\u001b[0m,\n",
       "        \u001b[1;36m5\u001b[0m: \u001b[1;35mnp.float64\u001b[0m\u001b[1m(\u001b[0m\u001b[1;36m0.07918124604762482\u001b[0m\u001b[1m)\u001b[0m,\n",
       "        \u001b[1;36m6\u001b[0m: \u001b[1;35mnp.float64\u001b[0m\u001b[1m(\u001b[0m\u001b[1;36m0.06694678963061322\u001b[0m\u001b[1m)\u001b[0m,\n",
       "        \u001b[1;36m7\u001b[0m: \u001b[1;35mnp.float64\u001b[0m\u001b[1m(\u001b[0m\u001b[1;36m0.05799194697768673\u001b[0m\u001b[1m)\u001b[0m,\n",
       "        \u001b[1;36m8\u001b[0m: \u001b[1;35mnp.float64\u001b[0m\u001b[1m(\u001b[0m\u001b[1;36m0.05115252244738129\u001b[0m\u001b[1m)\u001b[0m,\n",
       "        \u001b[1;36m9\u001b[0m: \u001b[1;35mnp.float64\u001b[0m\u001b[1m(\u001b[0m\u001b[1;36m0.04575749056067514\u001b[0m\u001b[1m)\u001b[0m\n",
       "    \u001b[1m}\u001b[0m,\n",
       "    \u001b[32m'observed_distribution'\u001b[0m: \u001b[1m{\u001b[0m\n",
       "        \u001b[1;36m1\u001b[0m: \u001b[1;36m0.3253493013972056\u001b[0m,\n",
       "        \u001b[1;36m2\u001b[0m: \u001b[1;36m0.20958083832335328\u001b[0m,\n",
       "        \u001b[1;36m3\u001b[0m: \u001b[1;36m0.12574850299401197\u001b[0m,\n",
       "        \u001b[1;36m4\u001b[0m: \u001b[1;36m0.07784431137724551\u001b[0m,\n",
       "        \u001b[1;36m5\u001b[0m: \u001b[1;36m0.0658682634730539\u001b[0m,\n",
       "        \u001b[1;36m6\u001b[0m: \u001b[1;36m0.05588822355289421\u001b[0m,\n",
       "        \u001b[1;36m7\u001b[0m: \u001b[1;36m0.04590818363273453\u001b[0m,\n",
       "        \u001b[1;36m8\u001b[0m: \u001b[1;36m0.03992015968063872\u001b[0m,\n",
       "        \u001b[1;36m9\u001b[0m: \u001b[1;36m0.05389221556886228\u001b[0m\n",
       "    \u001b[1m}\u001b[0m,\n",
       "    \u001b[32m'chi_square_test'\u001b[0m: \u001b[1m{\u001b[0m\n",
       "        \u001b[32m'statistic'\u001b[0m: \u001b[1;35mnp.float64\u001b[0m\u001b[1m(\u001b[0m\u001b[1;36m11.315380985821792\u001b[0m\u001b[1m)\u001b[0m,\n",
       "        \u001b[32m'p_value'\u001b[0m: \u001b[1;35mnp.float64\u001b[0m\u001b[1m(\u001b[0m\u001b[1;36m0.18446154098614584\u001b[0m\u001b[1m)\u001b[0m,\n",
       "        \u001b[32m'degrees_of_freedom'\u001b[0m: \u001b[1;36m8\u001b[0m,\n",
       "        \u001b[32m'significant'\u001b[0m: np.False_,\n",
       "        \u001b[32m'interpretation'\u001b[0m: \u001b[32m\"Not significantly different from Benford's Law \u001b[0m\u001b[32m(\u001b[0m\u001b[32mp >= 0.05\u001b[0m\u001b[32m)\u001b[0m\u001b[32m\"\u001b[0m\n",
       "    \u001b[1m}\u001b[0m,\n",
       "    \u001b[32m'ks_test'\u001b[0m: \u001b[1m{\u001b[0m\n",
       "        \u001b[32m'statistic'\u001b[0m: \u001b[1;35mnp.float64\u001b[0m\u001b[1m(\u001b[0m\u001b[1;36m0.05861865138660838\u001b[0m\u001b[1m)\u001b[0m,\n",
       "        \u001b[32m'critical_value'\u001b[0m: \u001b[1;35mnp.float64\u001b[0m\u001b[1m(\u001b[0m\u001b[1;36m0.06076031901879276\u001b[0m\u001b[1m)\u001b[0m,\n",
       "        \u001b[32m'confidence_level'\u001b[0m: \u001b[1;36m0.95\u001b[0m,\n",
       "        \u001b[32m'significant'\u001b[0m: np.False_,\n",
       "        \u001b[32m'interpretation'\u001b[0m: \u001b[32m\"Not significantly different from Benford's Law at 95% confidence\"\u001b[0m\n",
       "    \u001b[1m}\u001b[0m,\n",
       "    \u001b[32m'mean_absolute_deviation'\u001b[0m: \u001b[1m{\u001b[0m\n",
       "        \u001b[32m'mad'\u001b[0m: \u001b[1;35mnp.float64\u001b[0m\u001b[1m(\u001b[0m\u001b[1;36m0.014834083643287912\u001b[0m\u001b[1m)\u001b[0m,\n",
       "        \u001b[32m'conformity_level'\u001b[0m: \u001b[32m\"Marginal Dispersion: Suggests some deviation from Benford's Law, which may be \u001b[0m\n",
       "\u001b[32macceptable.\"\u001b[0m,\n",
       "        \u001b[32m'interpretation'\u001b[0m: \u001b[32m\"MAD = 0.014834 indicates marginal dispersion: suggests some deviation from benford's \u001b[0m\n",
       "\u001b[32mlaw, which may be acceptable.\"\u001b[0m\n",
       "    \u001b[1m}\u001b[0m,\n",
       "    \u001b[32m'summary'\u001b[0m: \u001b[32m\"The data likely follows Benford's Law. Marginal Dispersion: Suggests some deviation from Benford's \u001b[0m\n",
       "\u001b[32mLaw, which may be acceptable. detected.\"\u001b[0m\n",
       "\u001b[1m}\u001b[0m\n"
      ]
     },
     "metadata": {},
     "output_type": "display_data"
    }
   ],
   "source": [
    "result = bf_analyzer.analyze(df, field=\"marketCap\")\n",
    "console.print(result)"
   ]
  },
  {
   "cell_type": "code",
   "execution_count": 16,
   "id": "94ad188f",
   "metadata": {},
   "outputs": [
    {
     "data": {
      "image/png": "[encoded data removed]",
      "text/plain": [
       "<Figure size 1200x700 with 1 Axes>"
      ]
     },
     "metadata": {},
     "output_type": "display_data"
    }
   ],
   "source": [
    "bf_analyzer.plot_distribution(show_plot=True)"
   ]
  },
  {
   "cell_type": "code",
   "execution_count": 17,
   "id": "f1fa9786",
   "metadata": {},
   "outputs": [
    {
     "name": "stderr",
     "output_type": "stream",
     "text": [
      "\u001b[32m2025-08-30 15:58:13.616\u001b[0m | \u001b[1mINFO    \u001b[0m | \u001b[36msrc.analysis.benfords_law\u001b[0m:\u001b[36m_extract_first_digits\u001b[0m:\u001b[36m92\u001b[0m - \u001b[1mExtracted 501 valid first digits from 501 total values\u001b[0m\n"
     ]
    },
    {
     "data": {
      "text/html": [
       "<pre style=\"white-space:pre;overflow-x:auto;line-height:normal;font-family:Menlo,'DejaVu Sans Mono',consolas,'Courier New',monospace\"><span style=\"font-weight: bold\">{</span>\n",
       "    <span style=\"color: #008000; text-decoration-color: #008000\">'field_name'</span>: <span style=\"color: #008000; text-decoration-color: #008000\">'marketCap'</span>,\n",
       "    <span style=\"color: #008000; text-decoration-color: #008000\">'total_values'</span>: <span style=\"color: #008080; text-decoration-color: #008080; font-weight: bold\">501</span>,\n",
       "    <span style=\"color: #008000; text-decoration-color: #008000\">'valid_values'</span>: <span style=\"color: #008080; text-decoration-color: #008080; font-weight: bold\">501</span>,\n",
       "    <span style=\"color: #008000; text-decoration-color: #008000\">'theoretical_distribution'</span>: <span style=\"font-weight: bold\">{</span>\n",
       "        <span style=\"color: #008080; text-decoration-color: #008080; font-weight: bold\">1</span>: <span style=\"color: #800080; text-decoration-color: #800080; font-weight: bold\">np.float64</span><span style=\"font-weight: bold\">(</span><span style=\"color: #008080; text-decoration-color: #008080; font-weight: bold\">0.3010299956639812</span><span style=\"font-weight: bold\">)</span>,\n",
       "        <span style=\"color: #008080; text-decoration-color: #008080; font-weight: bold\">2</span>: <span style=\"color: #800080; text-decoration-color: #800080; font-weight: bold\">np.float64</span><span style=\"font-weight: bold\">(</span><span style=\"color: #008080; text-decoration-color: #008080; font-weight: bold\">0.17609125905568124</span><span style=\"font-weight: bold\">)</span>,\n",
       "        <span style=\"color: #008080; text-decoration-color: #008080; font-weight: bold\">3</span>: <span style=\"color: #800080; text-decoration-color: #800080; font-weight: bold\">np.float64</span><span style=\"font-weight: bold\">(</span><span style=\"color: #008080; text-decoration-color: #008080; font-weight: bold\">0.12493873660829993</span><span style=\"font-weight: bold\">)</span>,\n",
       "        <span style=\"color: #008080; text-decoration-color: #008080; font-weight: bold\">4</span>: <span style=\"color: #800080; text-decoration-color: #800080; font-weight: bold\">np.float64</span><span style=\"font-weight: bold\">(</span><span style=\"color: #008080; text-decoration-color: #008080; font-weight: bold\">0.09691001300805642</span><span style=\"font-weight: bold\">)</span>,\n",
       "        <span style=\"color: #008080; text-decoration-color: #008080; font-weight: bold\">5</span>: <span style=\"color: #800080; text-decoration-color: #800080; font-weight: bold\">np.float64</span><span style=\"font-weight: bold\">(</span><span style=\"color: #008080; text-decoration-color: #008080; font-weight: bold\">0.07918124604762482</span><span style=\"font-weight: bold\">)</span>,\n",
       "        <span style=\"color: #008080; text-decoration-color: #008080; font-weight: bold\">6</span>: <span style=\"color: #800080; text-decoration-color: #800080; font-weight: bold\">np.float64</span><span style=\"font-weight: bold\">(</span><span style=\"color: #008080; text-decoration-color: #008080; font-weight: bold\">0.06694678963061322</span><span style=\"font-weight: bold\">)</span>,\n",
       "        <span style=\"color: #008080; text-decoration-color: #008080; font-weight: bold\">7</span>: <span style=\"color: #800080; text-decoration-color: #800080; font-weight: bold\">np.float64</span><span style=\"font-weight: bold\">(</span><span style=\"color: #008080; text-decoration-color: #008080; font-weight: bold\">0.05799194697768673</span><span style=\"font-weight: bold\">)</span>,\n",
       "        <span style=\"color: #008080; text-decoration-color: #008080; font-weight: bold\">8</span>: <span style=\"color: #800080; text-decoration-color: #800080; font-weight: bold\">np.float64</span><span style=\"font-weight: bold\">(</span><span style=\"color: #008080; text-decoration-color: #008080; font-weight: bold\">0.05115252244738129</span><span style=\"font-weight: bold\">)</span>,\n",
       "        <span style=\"color: #008080; text-decoration-color: #008080; font-weight: bold\">9</span>: <span style=\"color: #800080; text-decoration-color: #800080; font-weight: bold\">np.float64</span><span style=\"font-weight: bold\">(</span><span style=\"color: #008080; text-decoration-color: #008080; font-weight: bold\">0.04575749056067514</span><span style=\"font-weight: bold\">)</span>\n",
       "    <span style=\"font-weight: bold\">}</span>,\n",
       "    <span style=\"color: #008000; text-decoration-color: #008000\">'observed_distribution'</span>: <span style=\"font-weight: bold\">{</span>\n",
       "        <span style=\"color: #008080; text-decoration-color: #008080; font-weight: bold\">1</span>: <span style=\"color: #008080; text-decoration-color: #008080; font-weight: bold\">0.32934131736526945</span>,\n",
       "        <span style=\"color: #008080; text-decoration-color: #008080; font-weight: bold\">2</span>: <span style=\"color: #008080; text-decoration-color: #008080; font-weight: bold\">0.2055888223552894</span>,\n",
       "        <span style=\"color: #008080; text-decoration-color: #008080; font-weight: bold\">3</span>: <span style=\"color: #008080; text-decoration-color: #008080; font-weight: bold\">0.11976047904191617</span>,\n",
       "        <span style=\"color: #008080; text-decoration-color: #008080; font-weight: bold\">4</span>: <span style=\"color: #008080; text-decoration-color: #008080; font-weight: bold\">0.07784431137724551</span>,\n",
       "        <span style=\"color: #008080; text-decoration-color: #008080; font-weight: bold\">5</span>: <span style=\"color: #008080; text-decoration-color: #008080; font-weight: bold\">0.07984031936127745</span>,\n",
       "        <span style=\"color: #008080; text-decoration-color: #008080; font-weight: bold\">6</span>: <span style=\"color: #008080; text-decoration-color: #008080; font-weight: bold\">0.0499001996007984</span>,\n",
       "        <span style=\"color: #008080; text-decoration-color: #008080; font-weight: bold\">7</span>: <span style=\"color: #008080; text-decoration-color: #008080; font-weight: bold\">0.03992015968063872</span>,\n",
       "        <span style=\"color: #008080; text-decoration-color: #008080; font-weight: bold\">8</span>: <span style=\"color: #008080; text-decoration-color: #008080; font-weight: bold\">0.041916167664670656</span>,\n",
       "        <span style=\"color: #008080; text-decoration-color: #008080; font-weight: bold\">9</span>: <span style=\"color: #008080; text-decoration-color: #008080; font-weight: bold\">0.05588822355289421</span>\n",
       "    <span style=\"font-weight: bold\">}</span>,\n",
       "    <span style=\"color: #008000; text-decoration-color: #008000\">'chi_square_test'</span>: <span style=\"font-weight: bold\">{</span>\n",
       "        <span style=\"color: #008000; text-decoration-color: #008000\">'statistic'</span>: <span style=\"color: #800080; text-decoration-color: #800080; font-weight: bold\">np.float64</span><span style=\"font-weight: bold\">(</span><span style=\"color: #008080; text-decoration-color: #008080; font-weight: bold\">12.75434394081722</span><span style=\"font-weight: bold\">)</span>,\n",
       "        <span style=\"color: #008000; text-decoration-color: #008000\">'p_value'</span>: <span style=\"color: #800080; text-decoration-color: #800080; font-weight: bold\">np.float64</span><span style=\"font-weight: bold\">(</span><span style=\"color: #008080; text-decoration-color: #008080; font-weight: bold\">0.12058603095224425</span><span style=\"font-weight: bold\">)</span>,\n",
       "        <span style=\"color: #008000; text-decoration-color: #008000\">'degrees_of_freedom'</span>: <span style=\"color: #008080; text-decoration-color: #008080; font-weight: bold\">8</span>,\n",
       "        <span style=\"color: #008000; text-decoration-color: #008000\">'significant'</span>: np.False_,\n",
       "        <span style=\"color: #008000; text-decoration-color: #008000\">'interpretation'</span>: <span style=\"color: #008000; text-decoration-color: #008000\">\"Not significantly different from Benford's Law (p &gt;= 0.05)\"</span>\n",
       "    <span style=\"font-weight: bold\">}</span>,\n",
       "    <span style=\"color: #008000; text-decoration-color: #008000\">'ks_test'</span>: <span style=\"font-weight: bold\">{</span>\n",
       "        <span style=\"color: #008000; text-decoration-color: #008000\">'statistic'</span>: <span style=\"color: #800080; text-decoration-color: #800080; font-weight: bold\">np.float64</span><span style=\"font-weight: bold\">(</span><span style=\"color: #008080; text-decoration-color: #008080; font-weight: bold\">0.05780888500089637</span><span style=\"font-weight: bold\">)</span>,\n",
       "        <span style=\"color: #008000; text-decoration-color: #008000\">'critical_value'</span>: <span style=\"color: #800080; text-decoration-color: #800080; font-weight: bold\">np.float64</span><span style=\"font-weight: bold\">(</span><span style=\"color: #008080; text-decoration-color: #008080; font-weight: bold\">0.06076031901879276</span><span style=\"font-weight: bold\">)</span>,\n",
       "        <span style=\"color: #008000; text-decoration-color: #008000\">'confidence_level'</span>: <span style=\"color: #008080; text-decoration-color: #008080; font-weight: bold\">0.95</span>,\n",
       "        <span style=\"color: #008000; text-decoration-color: #008000\">'significant'</span>: np.False_,\n",
       "        <span style=\"color: #008000; text-decoration-color: #008000\">'interpretation'</span>: <span style=\"color: #008000; text-decoration-color: #008000\">\"Not significantly different from Benford's Law at 95% confidence\"</span>\n",
       "    <span style=\"font-weight: bold\">}</span>,\n",
       "    <span style=\"color: #008000; text-decoration-color: #008000\">'mean_absolute_deviation'</span>: <span style=\"font-weight: bold\">{</span>\n",
       "        <span style=\"color: #008000; text-decoration-color: #008000\">'mad'</span>: <span style=\"color: #800080; text-decoration-color: #800080; font-weight: bold\">np.float64</span><span style=\"font-weight: bold\">(</span><span style=\"color: #008080; text-decoration-color: #008080; font-weight: bold\">0.015244153623726251</span><span style=\"font-weight: bold\">)</span>,\n",
       "        <span style=\"color: #008000; text-decoration-color: #008000\">'conformity_level'</span>: <span style=\"color: #008000; text-decoration-color: #008000\">\"High Dispersion: Indicates significant deviation from Benford's Law, suggesting </span>\n",
       "<span style=\"color: #008000; text-decoration-color: #008000\">potential data anomalies.\"</span>,\n",
       "        <span style=\"color: #008000; text-decoration-color: #008000\">'interpretation'</span>: <span style=\"color: #008000; text-decoration-color: #008000\">\"MAD = 0.015244 indicates high dispersion: indicates significant deviation from benford's</span>\n",
       "<span style=\"color: #008000; text-decoration-color: #008000\">law, suggesting potential data anomalies.\"</span>\n",
       "    <span style=\"font-weight: bold\">}</span>,\n",
       "    <span style=\"color: #008000; text-decoration-color: #008000\">'summary'</span>: <span style=\"color: #008000; text-decoration-color: #008000\">\"The data likely follows Benford's Law. High Dispersion: Indicates significant deviation from </span>\n",
       "<span style=\"color: #008000; text-decoration-color: #008000\">Benford's Law, suggesting potential data anomalies. detected.\"</span>\n",
       "<span style=\"font-weight: bold\">}</span>\n",
       "</pre>\n"
      ],
      "text/plain": [
       "\u001b[1m{\u001b[0m\n",
       "    \u001b[32m'field_name'\u001b[0m: \u001b[32m'marketCap'\u001b[0m,\n",
       "    \u001b[32m'total_values'\u001b[0m: \u001b[1;36m501\u001b[0m,\n",
       "    \u001b[32m'valid_values'\u001b[0m: \u001b[1;36m501\u001b[0m,\n",
       "    \u001b[32m'theoretical_distribution'\u001b[0m: \u001b[1m{\u001b[0m\n",
       "        \u001b[1;36m1\u001b[0m: \u001b[1;35mnp.float64\u001b[0m\u001b[1m(\u001b[0m\u001b[1;36m0.3010299956639812\u001b[0m\u001b[1m)\u001b[0m,\n",
       "        \u001b[1;36m2\u001b[0m: \u001b[1;35mnp.float64\u001b[0m\u001b[1m(\u001b[0m\u001b[1;36m0.17609125905568124\u001b[0m\u001b[1m)\u001b[0m,\n",
       "        \u001b[1;36m3\u001b[0m: \u001b[1;35mnp.float64\u001b[0m\u001b[1m(\u001b[0m\u001b[1;36m0.12493873660829993\u001b[0m\u001b[1m)\u001b[0m,\n",
       "        \u001b[1;36m4\u001b[0m: \u001b[1;35mnp.float64\u001b[0m\u001b[1m(\u001b[0m\u001b[1;36m0.09691001300805642\u001b[0m\u001b[1m)\u001b[0m,\n",
       "        \u001b[1;36m5\u001b[0m: \u001b[1;35mnp.float64\u001b[0m\u001b[1m(\u001b[0m\u001b[1;36m0.07918124604762482\u001b[0m\u001b[1m)\u001b[0m,\n",
       "        \u001b[1;36m6\u001b[0m: \u001b[1;35mnp.float64\u001b[0m\u001b[1m(\u001b[0m\u001b[1;36m0.06694678963061322\u001b[0m\u001b[1m)\u001b[0m,\n",
       "        \u001b[1;36m7\u001b[0m: \u001b[1;35mnp.float64\u001b[0m\u001b[1m(\u001b[0m\u001b[1;36m0.05799194697768673\u001b[0m\u001b[1m)\u001b[0m,\n",
       "        \u001b[1;36m8\u001b[0m: \u001b[1;35mnp.float64\u001b[0m\u001b[1m(\u001b[0m\u001b[1;36m0.05115252244738129\u001b[0m\u001b[1m)\u001b[0m,\n",
       "        \u001b[1;36m9\u001b[0m: \u001b[1;35mnp.float64\u001b[0m\u001b[1m(\u001b[0m\u001b[1;36m0.04575749056067514\u001b[0m\u001b[1m)\u001b[0m\n",
       "    \u001b[1m}\u001b[0m,\n",
       "    \u001b[32m'observed_distribution'\u001b[0m: \u001b[1m{\u001b[0m\n",
       "        \u001b[1;36m1\u001b[0m: \u001b[1;36m0.32934131736526945\u001b[0m,\n",
       "        \u001b[1;36m2\u001b[0m: \u001b[1;36m0.2055888223552894\u001b[0m,\n",
       "        \u001b[1;36m3\u001b[0m: \u001b[1;36m0.11976047904191617\u001b[0m,\n",
       "        \u001b[1;36m4\u001b[0m: \u001b[1;36m0.07784431137724551\u001b[0m,\n",
       "        \u001b[1;36m5\u001b[0m: \u001b[1;36m0.07984031936127745\u001b[0m,\n",
       "        \u001b[1;36m6\u001b[0m: \u001b[1;36m0.0499001996007984\u001b[0m,\n",
       "        \u001b[1;36m7\u001b[0m: \u001b[1;36m0.03992015968063872\u001b[0m,\n",
       "        \u001b[1;36m8\u001b[0m: \u001b[1;36m0.041916167664670656\u001b[0m,\n",
       "        \u001b[1;36m9\u001b[0m: \u001b[1;36m0.05588822355289421\u001b[0m\n",
       "    \u001b[1m}\u001b[0m,\n",
       "    \u001b[32m'chi_square_test'\u001b[0m: \u001b[1m{\u001b[0m\n",
       "        \u001b[32m'statistic'\u001b[0m: \u001b[1;35mnp.float64\u001b[0m\u001b[1m(\u001b[0m\u001b[1;36m12.75434394081722\u001b[0m\u001b[1m)\u001b[0m,\n",
       "        \u001b[32m'p_value'\u001b[0m: \u001b[1;35mnp.float64\u001b[0m\u001b[1m(\u001b[0m\u001b[1;36m0.12058603095224425\u001b[0m\u001b[1m)\u001b[0m,\n",
       "        \u001b[32m'degrees_of_freedom'\u001b[0m: \u001b[1;36m8\u001b[0m,\n",
       "        \u001b[32m'significant'\u001b[0m: np.False_,\n",
       "        \u001b[32m'interpretation'\u001b[0m: \u001b[32m\"Not significantly different from Benford's Law \u001b[0m\u001b[32m(\u001b[0m\u001b[32mp >= 0.05\u001b[0m\u001b[32m)\u001b[0m\u001b[32m\"\u001b[0m\n",
       "    \u001b[1m}\u001b[0m,\n",
       "    \u001b[32m'ks_test'\u001b[0m: \u001b[1m{\u001b[0m\n",
       "        \u001b[32m'statistic'\u001b[0m: \u001b[1;35mnp.float64\u001b[0m\u001b[1m(\u001b[0m\u001b[1;36m0.05780888500089637\u001b[0m\u001b[1m)\u001b[0m,\n",
       "        \u001b[32m'critical_value'\u001b[0m: \u001b[1;35mnp.float64\u001b[0m\u001b[1m(\u001b[0m\u001b[1;36m0.06076031901879276\u001b[0m\u001b[1m)\u001b[0m,\n",
       "        \u001b[32m'confidence_level'\u001b[0m: \u001b[1;36m0.95\u001b[0m,\n",
       "        \u001b[32m'significant'\u001b[0m: np.False_,\n",
       "        \u001b[32m'interpretation'\u001b[0m: \u001b[32m\"Not significantly different from Benford's Law at 95% confidence\"\u001b[0m\n",
       "    \u001b[1m}\u001b[0m,\n",
       "    \u001b[32m'mean_absolute_deviation'\u001b[0m: \u001b[1m{\u001b[0m\n",
       "        \u001b[32m'mad'\u001b[0m: \u001b[1;35mnp.float64\u001b[0m\u001b[1m(\u001b[0m\u001b[1;36m0.015244153623726251\u001b[0m\u001b[1m)\u001b[0m,\n",
       "        \u001b[32m'conformity_level'\u001b[0m: \u001b[32m\"High Dispersion: Indicates significant deviation from Benford's Law, suggesting \u001b[0m\n",
       "\u001b[32mpotential data anomalies.\"\u001b[0m,\n",
       "        \u001b[32m'interpretation'\u001b[0m: \u001b[32m\"MAD = 0.015244 indicates high dispersion: indicates significant deviation from benford's\u001b[0m\n",
       "\u001b[32mlaw, suggesting potential data anomalies.\"\u001b[0m\n",
       "    \u001b[1m}\u001b[0m,\n",
       "    \u001b[32m'summary'\u001b[0m: \u001b[32m\"The data likely follows Benford's Law. High Dispersion: Indicates significant deviation from \u001b[0m\n",
       "\u001b[32mBenford's Law, suggesting potential data anomalies. detected.\"\u001b[0m\n",
       "\u001b[1m}\u001b[0m\n"
      ]
     },
     "metadata": {},
     "output_type": "display_data"
    }
   ],
   "source": [
    "result = bf_analyzer.analyze(df_manual, field=\"marketCap\")\n",
    "console.print(result)"
   ]
  },
  {
   "cell_type": "code",
   "execution_count": null,
   "id": "13fcf27f",
   "metadata": {},
   "outputs": [
    {
     "data": {
      "image/png": "[encoded data removed]",
      "text/plain": [
       "<Figure size 1200x700 with 1 Axes>"
      ]
     },
     "metadata": {},
     "output_type": "display_data"
    }
   ],
   "source": [
    "# Should not be any different even if we use a more rigorous calculation by close * oustanding shares\n",
    "bf_analyzer.plot_distribution(show_plot=True)"
   ]
  },
  {
   "cell_type": "code",
   "execution_count": null,
   "id": "73a232f8",
   "metadata": {},
   "outputs": [],
   "source": [
    "# Try another financial metric\n",
    "df_payout = yf_loader.get_stock_info(tickers, [\"payoutRatio\"])"
   ]
  },
  {
   "cell_type": "code",
   "execution_count": null,
   "id": "b81b411d",
   "metadata": {},
   "outputs": [
    {
     "name": "stderr",
     "output_type": "stream",
     "text": [
      "\u001b[32m2025-08-30 16:02:17.581\u001b[0m | \u001b[1mINFO    \u001b[0m | \u001b[36msrc.analysis.benfords_law\u001b[0m:\u001b[36m_extract_first_digits\u001b[0m:\u001b[36m92\u001b[0m - \u001b[1mExtracted 63 valid first digits from 503 total values\u001b[0m\n"
     ]
    },
    {
     "data": {
      "text/html": [
       "<pre style=\"white-space:pre;overflow-x:auto;line-height:normal;font-family:Menlo,'DejaVu Sans Mono',consolas,'Courier New',monospace\"><span style=\"font-weight: bold\">{</span>\n",
       "    <span style=\"color: #008000; text-decoration-color: #008000\">'field_name'</span>: <span style=\"color: #008000; text-decoration-color: #008000\">'payoutRatio'</span>,\n",
       "    <span style=\"color: #008000; text-decoration-color: #008000\">'total_values'</span>: <span style=\"color: #008080; text-decoration-color: #008080; font-weight: bold\">503</span>,\n",
       "    <span style=\"color: #008000; text-decoration-color: #008000\">'valid_values'</span>: <span style=\"color: #008080; text-decoration-color: #008080; font-weight: bold\">63</span>,\n",
       "    <span style=\"color: #008000; text-decoration-color: #008000\">'theoretical_distribution'</span>: <span style=\"font-weight: bold\">{</span>\n",
       "        <span style=\"color: #008080; text-decoration-color: #008080; font-weight: bold\">1</span>: <span style=\"color: #800080; text-decoration-color: #800080; font-weight: bold\">np.float64</span><span style=\"font-weight: bold\">(</span><span style=\"color: #008080; text-decoration-color: #008080; font-weight: bold\">0.3010299956639812</span><span style=\"font-weight: bold\">)</span>,\n",
       "        <span style=\"color: #008080; text-decoration-color: #008080; font-weight: bold\">2</span>: <span style=\"color: #800080; text-decoration-color: #800080; font-weight: bold\">np.float64</span><span style=\"font-weight: bold\">(</span><span style=\"color: #008080; text-decoration-color: #008080; font-weight: bold\">0.17609125905568124</span><span style=\"font-weight: bold\">)</span>,\n",
       "        <span style=\"color: #008080; text-decoration-color: #008080; font-weight: bold\">3</span>: <span style=\"color: #800080; text-decoration-color: #800080; font-weight: bold\">np.float64</span><span style=\"font-weight: bold\">(</span><span style=\"color: #008080; text-decoration-color: #008080; font-weight: bold\">0.12493873660829993</span><span style=\"font-weight: bold\">)</span>,\n",
       "        <span style=\"color: #008080; text-decoration-color: #008080; font-weight: bold\">4</span>: <span style=\"color: #800080; text-decoration-color: #800080; font-weight: bold\">np.float64</span><span style=\"font-weight: bold\">(</span><span style=\"color: #008080; text-decoration-color: #008080; font-weight: bold\">0.09691001300805642</span><span style=\"font-weight: bold\">)</span>,\n",
       "        <span style=\"color: #008080; text-decoration-color: #008080; font-weight: bold\">5</span>: <span style=\"color: #800080; text-decoration-color: #800080; font-weight: bold\">np.float64</span><span style=\"font-weight: bold\">(</span><span style=\"color: #008080; text-decoration-color: #008080; font-weight: bold\">0.07918124604762482</span><span style=\"font-weight: bold\">)</span>,\n",
       "        <span style=\"color: #008080; text-decoration-color: #008080; font-weight: bold\">6</span>: <span style=\"color: #800080; text-decoration-color: #800080; font-weight: bold\">np.float64</span><span style=\"font-weight: bold\">(</span><span style=\"color: #008080; text-decoration-color: #008080; font-weight: bold\">0.06694678963061322</span><span style=\"font-weight: bold\">)</span>,\n",
       "        <span style=\"color: #008080; text-decoration-color: #008080; font-weight: bold\">7</span>: <span style=\"color: #800080; text-decoration-color: #800080; font-weight: bold\">np.float64</span><span style=\"font-weight: bold\">(</span><span style=\"color: #008080; text-decoration-color: #008080; font-weight: bold\">0.05799194697768673</span><span style=\"font-weight: bold\">)</span>,\n",
       "        <span style=\"color: #008080; text-decoration-color: #008080; font-weight: bold\">8</span>: <span style=\"color: #800080; text-decoration-color: #800080; font-weight: bold\">np.float64</span><span style=\"font-weight: bold\">(</span><span style=\"color: #008080; text-decoration-color: #008080; font-weight: bold\">0.05115252244738129</span><span style=\"font-weight: bold\">)</span>,\n",
       "        <span style=\"color: #008080; text-decoration-color: #008080; font-weight: bold\">9</span>: <span style=\"color: #800080; text-decoration-color: #800080; font-weight: bold\">np.float64</span><span style=\"font-weight: bold\">(</span><span style=\"color: #008080; text-decoration-color: #008080; font-weight: bold\">0.04575749056067514</span><span style=\"font-weight: bold\">)</span>\n",
       "    <span style=\"font-weight: bold\">}</span>,\n",
       "    <span style=\"color: #008000; text-decoration-color: #008000\">'observed_distribution'</span>: <span style=\"font-weight: bold\">{</span>\n",
       "        <span style=\"color: #008080; text-decoration-color: #008080; font-weight: bold\">1</span>: <span style=\"color: #008080; text-decoration-color: #008080; font-weight: bold\">0.6349206349206349</span>,\n",
       "        <span style=\"color: #008080; text-decoration-color: #008080; font-weight: bold\">2</span>: <span style=\"color: #008080; text-decoration-color: #008080; font-weight: bold\">0.1111111111111111</span>,\n",
       "        <span style=\"color: #008080; text-decoration-color: #008080; font-weight: bold\">3</span>: <span style=\"color: #008080; text-decoration-color: #008080; font-weight: bold\">0.06349206349206349</span>,\n",
       "        <span style=\"color: #008080; text-decoration-color: #008080; font-weight: bold\">4</span>: <span style=\"color: #008080; text-decoration-color: #008080; font-weight: bold\">0.047619047619047616</span>,\n",
       "        <span style=\"color: #008080; text-decoration-color: #008080; font-weight: bold\">5</span>: <span style=\"color: #008080; text-decoration-color: #008080; font-weight: bold\">0.031746031746031744</span>,\n",
       "        <span style=\"color: #008080; text-decoration-color: #008080; font-weight: bold\">6</span>: <span style=\"color: #008080; text-decoration-color: #008080; font-weight: bold\">0.06349206349206349</span>,\n",
       "        <span style=\"color: #008080; text-decoration-color: #008080; font-weight: bold\">7</span>: <span style=\"color: #008080; text-decoration-color: #008080; font-weight: bold\">0.015873015873015872</span>,\n",
       "        <span style=\"color: #008080; text-decoration-color: #008080; font-weight: bold\">8</span>: <span style=\"color: #008080; text-decoration-color: #008080; font-weight: bold\">0.0</span>,\n",
       "        <span style=\"color: #008080; text-decoration-color: #008080; font-weight: bold\">9</span>: <span style=\"color: #008080; text-decoration-color: #008080; font-weight: bold\">0.031746031746031744</span>\n",
       "    <span style=\"font-weight: bold\">}</span>,\n",
       "    <span style=\"color: #008000; text-decoration-color: #008000\">'chi_square_test'</span>: <span style=\"font-weight: bold\">{</span>\n",
       "        <span style=\"color: #008000; text-decoration-color: #008000\">'statistic'</span>: <span style=\"color: #800080; text-decoration-color: #800080; font-weight: bold\">np.float64</span><span style=\"font-weight: bold\">(</span><span style=\"color: #008080; text-decoration-color: #008080; font-weight: bold\">35.54692264753747</span><span style=\"font-weight: bold\">)</span>,\n",
       "        <span style=\"color: #008000; text-decoration-color: #008000\">'p_value'</span>: <span style=\"color: #800080; text-decoration-color: #800080; font-weight: bold\">np.float64</span><span style=\"font-weight: bold\">(</span><span style=\"color: #008080; text-decoration-color: #008080; font-weight: bold\">2.1250876849461422e-05</span><span style=\"font-weight: bold\">)</span>,\n",
       "        <span style=\"color: #008000; text-decoration-color: #008000\">'degrees_of_freedom'</span>: <span style=\"color: #008080; text-decoration-color: #008080; font-weight: bold\">8</span>,\n",
       "        <span style=\"color: #008000; text-decoration-color: #008000\">'significant'</span>: np.True_,\n",
       "        <span style=\"color: #008000; text-decoration-color: #008000\">'interpretation'</span>: <span style=\"color: #008000; text-decoration-color: #008000\">\"Significantly different from Benford's Law (p &lt; 0.05)\"</span>\n",
       "    <span style=\"font-weight: bold\">}</span>,\n",
       "    <span style=\"color: #008000; text-decoration-color: #008000\">'ks_test'</span>: <span style=\"font-weight: bold\">{</span>\n",
       "        <span style=\"color: #008000; text-decoration-color: #008000\">'statistic'</span>: <span style=\"color: #800080; text-decoration-color: #800080; font-weight: bold\">np.float64</span><span style=\"font-weight: bold\">(</span><span style=\"color: #008080; text-decoration-color: #008080; font-weight: bold\">0.3338906392566537</span><span style=\"font-weight: bold\">)</span>,\n",
       "        <span style=\"color: #008000; text-decoration-color: #008000\">'critical_value'</span>: <span style=\"color: #800080; text-decoration-color: #800080; font-weight: bold\">np.float64</span><span style=\"font-weight: bold\">(</span><span style=\"color: #008080; text-decoration-color: #008080; font-weight: bold\">0.17134389443084969</span><span style=\"font-weight: bold\">)</span>,\n",
       "        <span style=\"color: #008000; text-decoration-color: #008000\">'confidence_level'</span>: <span style=\"color: #008080; text-decoration-color: #008080; font-weight: bold\">0.95</span>,\n",
       "        <span style=\"color: #008000; text-decoration-color: #008000\">'significant'</span>: np.True_,\n",
       "        <span style=\"color: #008000; text-decoration-color: #008000\">'interpretation'</span>: <span style=\"color: #008000; text-decoration-color: #008000\">\"Significantly different from Benford's Law at 95% confidence\"</span>\n",
       "    <span style=\"font-weight: bold\">}</span>,\n",
       "    <span style=\"color: #008000; text-decoration-color: #008000\">'mean_absolute_deviation'</span>: <span style=\"font-weight: bold\">{</span>\n",
       "        <span style=\"color: #008000; text-decoration-color: #008000\">'mad'</span>: <span style=\"color: #800080; text-decoration-color: #800080; font-weight: bold\">np.float64</span><span style=\"font-weight: bold\">(</span><span style=\"color: #008080; text-decoration-color: #008080; font-weight: bold\">0.07419791983481193</span><span style=\"font-weight: bold\">)</span>,\n",
       "        <span style=\"color: #008000; text-decoration-color: #008000\">'conformity_level'</span>: <span style=\"color: #008000; text-decoration-color: #008000\">\"High Dispersion: Indicates significant deviation from Benford's Law, suggesting </span>\n",
       "<span style=\"color: #008000; text-decoration-color: #008000\">potential data anomalies.\"</span>,\n",
       "        <span style=\"color: #008000; text-decoration-color: #008000\">'interpretation'</span>: <span style=\"color: #008000; text-decoration-color: #008000\">\"MAD = 0.074198 indicates high dispersion: indicates significant deviation from benford's</span>\n",
       "<span style=\"color: #008000; text-decoration-color: #008000\">law, suggesting potential data anomalies.\"</span>\n",
       "    <span style=\"font-weight: bold\">}</span>,\n",
       "    <span style=\"color: #008000; text-decoration-color: #008000\">'summary'</span>: <span style=\"color: #008000; text-decoration-color: #008000\">\"The data likely does not follow Benford's Law. Multiple tests indicate deviation.\"</span>\n",
       "<span style=\"font-weight: bold\">}</span>\n",
       "</pre>\n"
      ],
      "text/plain": [
       "\u001b[1m{\u001b[0m\n",
       "    \u001b[32m'field_name'\u001b[0m: \u001b[32m'payoutRatio'\u001b[0m,\n",
       "    \u001b[32m'total_values'\u001b[0m: \u001b[1;36m503\u001b[0m,\n",
       "    \u001b[32m'valid_values'\u001b[0m: \u001b[1;36m63\u001b[0m,\n",
       "    \u001b[32m'theoretical_distribution'\u001b[0m: \u001b[1m{\u001b[0m\n",
       "        \u001b[1;36m1\u001b[0m: \u001b[1;35mnp.float64\u001b[0m\u001b[1m(\u001b[0m\u001b[1;36m0.3010299956639812\u001b[0m\u001b[1m)\u001b[0m,\n",
       "        \u001b[1;36m2\u001b[0m: \u001b[1;35mnp.float64\u001b[0m\u001b[1m(\u001b[0m\u001b[1;36m0.17609125905568124\u001b[0m\u001b[1m)\u001b[0m,\n",
       "        \u001b[1;36m3\u001b[0m: \u001b[1;35mnp.float64\u001b[0m\u001b[1m(\u001b[0m\u001b[1;36m0.12493873660829993\u001b[0m\u001b[1m)\u001b[0m,\n",
       "        \u001b[1;36m4\u001b[0m: \u001b[1;35mnp.float64\u001b[0m\u001b[1m(\u001b[0m\u001b[1;36m0.09691001300805642\u001b[0m\u001b[1m)\u001b[0m,\n",
       "        \u001b[1;36m5\u001b[0m: \u001b[1;35mnp.float64\u001b[0m\u001b[1m(\u001b[0m\u001b[1;36m0.07918124604762482\u001b[0m\u001b[1m)\u001b[0m,\n",
       "        \u001b[1;36m6\u001b[0m: \u001b[1;35mnp.float64\u001b[0m\u001b[1m(\u001b[0m\u001b[1;36m0.06694678963061322\u001b[0m\u001b[1m)\u001b[0m,\n",
       "        \u001b[1;36m7\u001b[0m: \u001b[1;35mnp.float64\u001b[0m\u001b[1m(\u001b[0m\u001b[1;36m0.05799194697768673\u001b[0m\u001b[1m)\u001b[0m,\n",
       "        \u001b[1;36m8\u001b[0m: \u001b[1;35mnp.float64\u001b[0m\u001b[1m(\u001b[0m\u001b[1;36m0.05115252244738129\u001b[0m\u001b[1m)\u001b[0m,\n",
       "        \u001b[1;36m9\u001b[0m: \u001b[1;35mnp.float64\u001b[0m\u001b[1m(\u001b[0m\u001b[1;36m0.04575749056067514\u001b[0m\u001b[1m)\u001b[0m\n",
       "    \u001b[1m}\u001b[0m,\n",
       "    \u001b[32m'observed_distribution'\u001b[0m: \u001b[1m{\u001b[0m\n",
       "        \u001b[1;36m1\u001b[0m: \u001b[1;36m0.6349206349206349\u001b[0m,\n",
       "        \u001b[1;36m2\u001b[0m: \u001b[1;36m0.1111111111111111\u001b[0m,\n",
       "        \u001b[1;36m3\u001b[0m: \u001b[1;36m0.06349206349206349\u001b[0m,\n",
       "        \u001b[1;36m4\u001b[0m: \u001b[1;36m0.047619047619047616\u001b[0m,\n",
       "        \u001b[1;36m5\u001b[0m: \u001b[1;36m0.031746031746031744\u001b[0m,\n",
       "        \u001b[1;36m6\u001b[0m: \u001b[1;36m0.06349206349206349\u001b[0m,\n",
       "        \u001b[1;36m7\u001b[0m: \u001b[1;36m0.015873015873015872\u001b[0m,\n",
       "        \u001b[1;36m8\u001b[0m: \u001b[1;36m0.0\u001b[0m,\n",
       "        \u001b[1;36m9\u001b[0m: \u001b[1;36m0.031746031746031744\u001b[0m\n",
       "    \u001b[1m}\u001b[0m,\n",
       "    \u001b[32m'chi_square_test'\u001b[0m: \u001b[1m{\u001b[0m\n",
       "        \u001b[32m'statistic'\u001b[0m: \u001b[1;35mnp.float64\u001b[0m\u001b[1m(\u001b[0m\u001b[1;36m35.54692264753747\u001b[0m\u001b[1m)\u001b[0m,\n",
       "        \u001b[32m'p_value'\u001b[0m: \u001b[1;35mnp.float64\u001b[0m\u001b[1m(\u001b[0m\u001b[1;36m2.1250876849461422e-05\u001b[0m\u001b[1m)\u001b[0m,\n",
       "        \u001b[32m'degrees_of_freedom'\u001b[0m: \u001b[1;36m8\u001b[0m,\n",
       "        \u001b[32m'significant'\u001b[0m: np.True_,\n",
       "        \u001b[32m'interpretation'\u001b[0m: \u001b[32m\"Significantly different from Benford's Law \u001b[0m\u001b[32m(\u001b[0m\u001b[32mp < 0.05\u001b[0m\u001b[32m)\u001b[0m\u001b[32m\"\u001b[0m\n",
       "    \u001b[1m}\u001b[0m,\n",
       "    \u001b[32m'ks_test'\u001b[0m: \u001b[1m{\u001b[0m\n",
       "        \u001b[32m'statistic'\u001b[0m: \u001b[1;35mnp.float64\u001b[0m\u001b[1m(\u001b[0m\u001b[1;36m0.3338906392566537\u001b[0m\u001b[1m)\u001b[0m,\n",
       "        \u001b[32m'critical_value'\u001b[0m: \u001b[1;35mnp.float64\u001b[0m\u001b[1m(\u001b[0m\u001b[1;36m0.17134389443084969\u001b[0m\u001b[1m)\u001b[0m,\n",
       "        \u001b[32m'confidence_level'\u001b[0m: \u001b[1;36m0.95\u001b[0m,\n",
       "        \u001b[32m'significant'\u001b[0m: np.True_,\n",
       "        \u001b[32m'interpretation'\u001b[0m: \u001b[32m\"Significantly different from Benford's Law at 95% confidence\"\u001b[0m\n",
       "    \u001b[1m}\u001b[0m,\n",
       "    \u001b[32m'mean_absolute_deviation'\u001b[0m: \u001b[1m{\u001b[0m\n",
       "        \u001b[32m'mad'\u001b[0m: \u001b[1;35mnp.float64\u001b[0m\u001b[1m(\u001b[0m\u001b[1;36m0.07419791983481193\u001b[0m\u001b[1m)\u001b[0m,\n",
       "        \u001b[32m'conformity_level'\u001b[0m: \u001b[32m\"High Dispersion: Indicates significant deviation from Benford's Law, suggesting \u001b[0m\n",
       "\u001b[32mpotential data anomalies.\"\u001b[0m,\n",
       "        \u001b[32m'interpretation'\u001b[0m: \u001b[32m\"MAD = 0.074198 indicates high dispersion: indicates significant deviation from benford's\u001b[0m\n",
       "\u001b[32mlaw, suggesting potential data anomalies.\"\u001b[0m\n",
       "    \u001b[1m}\u001b[0m,\n",
       "    \u001b[32m'summary'\u001b[0m: \u001b[32m\"The data likely does not follow Benford's Law. Multiple tests indicate deviation.\"\u001b[0m\n",
       "\u001b[1m}\u001b[0m\n"
      ]
     },
     "metadata": {},
     "output_type": "display_data"
    }
   ],
   "source": [
    "# It's not going to follow benford's law distribution closely because it has a clear minimum and maximum\n",
    "result = bf_analyzer.analyze(df_payout, field=\"payoutRatio\")\n",
    "console.print(result)"
   ]
  },
  {
   "cell_type": "code",
   "execution_count": 23,
   "id": "4dce4d46",
   "metadata": {},
   "outputs": [
    {
     "data": {
      "image/png": "[encoded data removed]",
      "text/plain": [
       "<Figure size 1200x700 with 1 Axes>"
      ]
     },
     "metadata": {},
     "output_type": "display_data"
    }
   ],
   "source": [
    "bf_analyzer.plot_distribution(show_plot=True)"
   ]
  }
 ],
 "metadata": {
  "kernelspec": {
   "display_name": "ft5009-assignment1-BgGLq9na-py3.10",
   "language": "python",
   "name": "python3"
  },
  "language_info": {
   "codemirror_mode": {
    "name": "ipython",
    "version": 3
   },
   "file_extension": ".py",
   "mimetype": "text/x-python",
   "name": "python",
   "nbconvert_exporter": "python",
   "pygments_lexer": "ipython3",
   "version": "3.10.4"
  }
 },
 "nbformat": 4,
 "nbformat_minor": 5
}
